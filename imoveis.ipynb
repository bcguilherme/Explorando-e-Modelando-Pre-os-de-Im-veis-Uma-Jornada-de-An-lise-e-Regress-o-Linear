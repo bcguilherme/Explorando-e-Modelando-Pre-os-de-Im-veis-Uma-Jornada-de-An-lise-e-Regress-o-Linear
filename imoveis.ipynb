{
  "nbformat": 4,
  "nbformat_minor": 0,
  "metadata": {
    "colab": {
      "provenance": [],
      "include_colab_link": true
    },
    "kernelspec": {
      "name": "python3",
      "display_name": "Python 3"
    },
    "language_info": {
      "name": "python"
    }
  },
  "cells": [
    {
      "cell_type": "markdown",
      "metadata": {
        "id": "view-in-github",
        "colab_type": "text"
      },
      "source": [
        "<a href=\"https://colab.research.google.com/github/bcguilherme/Imoveis-/blob/main/imoveis.ipynb\" target=\"_parent\"><img src=\"https://colab.research.google.com/assets/colab-badge.svg\" alt=\"Open In Colab\"/></a>"
      ]
    },
    {
      "cell_type": "code",
      "source": [
        "import pandas as pd\n",
        "import numpy as np\n",
        "import seaborn as sns\n",
        "from sklearn.model_selection import train_test_split\n",
        "from sklearn.linear_model import LinearRegression\n",
        "from sklearn import metrics\n",
        "from sklearn.preprocessing import MinMaxScaler\n",
        "import statsmodels.formula.api as smf\n",
        "\n",
        "# Carregando o conjunto de dados\n",
        "imoveis = pd.read_excel('/content/Cópia de imoveis.xlsx')\n",
        "\n",
        "# Exibindo as primeiras linhas do conjunto de dados\n",
        "imoveis.head()\n",
        "\n",
        "# Estatísticas descritivas\n",
        "imoveis.describe()\n",
        "\n",
        "# Informações sobre os dados\n",
        "imoveis.info()\n",
        "\n",
        "# Visualização dos dados\n",
        "sns.histplot(imoveis, x='area', kde=True)\n",
        "sns.histplot(imoveis, x='preco', kde=True)\n",
        "sns.regplot(x='area', y='preco', data=imoveis)\n",
        "\n",
        "# Matriz de correlação\n",
        "imoveis.corr()\n",
        "\n",
        "# Pré-processamento dos dados: Normalização\n",
        "scaler = MinMaxScaler()\n",
        "imovel_norm = pd.DataFrame(scaler.fit_transform(imoveis), index=imoveis.index, columns=imoveis.columns)\n",
        "\n",
        "# Exibindo o gráfico de regressão normalizado\n",
        "sns.regplot(x='area', y='preco', data=imovel_norm)\n",
        "\n",
        "# Modelo de Regressão Linear\n",
        "funcao = 'preco ~ area'\n",
        "modelo = smf.ols(formula=funcao, data=imovel_norm)\n",
        "resultado = modelo.fit()\n",
        "\n",
        "# Exibindo o resumo do modelo de regressão linear\n",
        "print(resultado.summary())\n",
        "\n",
        "# Dividindo os dados em conjuntos de treinamento e teste\n",
        "x = imovel_norm[['area']]\n",
        "y = imovel_norm[['preco']]\n",
        "x_treino, x_teste, y_treino, y_teste = train_test_split(x, y, test_size=0.2, random_state=42)\n",
        "\n",
        "# Treinamento do modelo e avaliação (Conjunto de Treinamento)\n",
        "lr = LinearRegression()\n",
        "lr.fit(x_treino, y_treino)\n",
        "\n",
        "r_sq = lr.score(x_treino, y_treino)\n",
        "y_pred_treino = lr.predict(x_treino)\n",
        "\n",
        "\n"
      ],
      "metadata": {
        "id": "kiqX73zcfF4v"
      },
      "execution_count": null,
      "outputs": []
    }
  ]
}